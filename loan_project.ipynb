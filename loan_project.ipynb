{
 "cells": [
  {
   "cell_type": "code",
   "execution_count": 53,
   "id": "6cb5ea83",
   "metadata": {},
   "outputs": [],
   "source": [
    "import numpy as np\n",
    "np.set_printoptions(suppress=True,linewidth=100,precision=2)"
   ]
  },
  {
   "cell_type": "code",
   "execution_count": 54,
   "id": "cfbfa951",
   "metadata": {},
   "outputs": [
    {
     "data": {
      "text/plain": [
       "array([[48010226.  ,         nan,    35000.  , ...,         nan,         nan,     9452.96],\n",
       "       [57693261.  ,         nan,    30000.  , ...,         nan,         nan,     4679.7 ],\n",
       "       [59432726.  ,         nan,    15000.  , ...,         nan,         nan,     1969.83],\n",
       "       ...,\n",
       "       [50415990.  ,         nan,    10000.  , ...,         nan,         nan,     2185.64],\n",
       "       [46154151.  ,         nan,         nan, ...,         nan,         nan,     3199.4 ],\n",
       "       [66055249.  ,         nan,    10000.  , ...,         nan,         nan,      301.9 ]])"
      ]
     },
     "execution_count": 54,
     "metadata": {},
     "output_type": "execute_result"
    }
   ],
   "source": [
    "loan_data= np.genfromtxt(\"C:\\\\Users\\mrgup\\Downloads\\loan-data.csv\",delimiter=\";\",skip_header= 1)\n",
    "loan_data"
   ]
  },
  {
   "cell_type": "markdown",
   "id": "27f7dc2b",
   "metadata": {},
   "source": [
    "# Checking for Null Values\n"
   ]
  },
  {
   "cell_type": "code",
   "execution_count": 55,
   "id": "47f53caa",
   "metadata": {},
   "outputs": [
    {
     "data": {
      "text/plain": [
       "88005"
      ]
     },
     "execution_count": 55,
     "metadata": {},
     "output_type": "execute_result"
    }
   ],
   "source": [
    "np.isnan(loan_data).sum()"
   ]
  },
  {
   "cell_type": "code",
   "execution_count": 56,
   "id": "dd8a0108",
   "metadata": {},
   "outputs": [
    {
     "data": {
      "text/plain": [
       "68616520.0"
      ]
     },
     "execution_count": 56,
     "metadata": {},
     "output_type": "execute_result"
    }
   ],
   "source": [
    "Temporary_Fill= np.nanmax(loan_data)+1\n",
    "Temporary_Fill"
   ]
  },
  {
   "cell_type": "code",
   "execution_count": 57,
   "id": "a9163431",
   "metadata": {},
   "outputs": [
    {
     "name": "stderr",
     "output_type": "stream",
     "text": [
      "C:\\Users\\mrgup\\AppData\\Local\\Temp\\ipykernel_12636\\1585059884.py:1: RuntimeWarning: Mean of empty slice\n",
      "  Temporary_Mean=np.nanmean(loan_data,axis=0)\n"
     ]
    },
    {
     "data": {
      "text/plain": [
       "array([54015809.19,         nan,    15273.46,         nan,    15311.04,         nan,       16.62,\n",
       "            440.92,         nan,         nan,         nan,         nan,         nan,     3143.85])"
      ]
     },
     "execution_count": 57,
     "metadata": {},
     "output_type": "execute_result"
    }
   ],
   "source": [
    "Temporary_Mean=np.nanmean(loan_data,axis=0)\n",
    "Temporary_Mean"
   ]
  },
  {
   "cell_type": "code",
   "execution_count": 58,
   "id": "b7dbee20",
   "metadata": {},
   "outputs": [
    {
     "data": {
      "text/plain": [
       "array([ 1,  3,  5,  8,  9, 10, 11, 12], dtype=int64)"
      ]
     },
     "execution_count": 58,
     "metadata": {},
     "output_type": "execute_result"
    }
   ],
   "source": [
    "columns_string = np.argwhere(np.isnan(Temporary_Mean)).squeeze()\n",
    "columns_string"
   ]
  },
  {
   "cell_type": "code",
   "execution_count": 59,
   "id": "15544dd9",
   "metadata": {},
   "outputs": [
    {
     "data": {
      "text/plain": [
       "array([ 0,  2,  4,  6,  7, 13], dtype=int64)"
      ]
     },
     "execution_count": 59,
     "metadata": {},
     "output_type": "execute_result"
    }
   ],
   "source": [
    "columns_numeric = np.argwhere(np.isnan(Temporary_Mean) == False).squeeze()\n",
    "columns_numeric"
   ]
  },
  {
   "cell_type": "markdown",
   "id": "9672a059",
   "metadata": {},
   "source": [
    "# Splitting the data"
   ]
  },
  {
   "cell_type": "code",
   "execution_count": 60,
   "id": "27d16317",
   "metadata": {},
   "outputs": [
    {
     "data": {
      "text/plain": [
       "array([['May-15', 'Current', ' 36 months', ..., 'Verified',\n",
       "        'https://www.lendingclub.com/browse/loanDetail.action?loan_id=48010226', 'CA'],\n",
       "       ['', 'Current', ' 36 months', ..., 'Source Verified',\n",
       "        'https://www.lendingclub.com/browse/loanDetail.action?loan_id=57693261', 'NY'],\n",
       "       ['Sep-15', 'Current', ' 36 months', ..., 'Verified',\n",
       "        'https://www.lendingclub.com/browse/loanDetail.action?loan_id=59432726', 'PA'],\n",
       "       ...,\n",
       "       ['Jun-15', 'Current', ' 36 months', ..., 'Source Verified',\n",
       "        'https://www.lendingclub.com/browse/loanDetail.action?loan_id=50415990', 'CA'],\n",
       "       ['Apr-15', 'Current', ' 36 months', ..., 'Source Verified',\n",
       "        'https://www.lendingclub.com/browse/loanDetail.action?loan_id=46154151', 'OH'],\n",
       "       ['Dec-15', 'Current', ' 36 months', ..., '',\n",
       "        'https://www.lendingclub.com/browse/loanDetail.action?loan_id=66055249', 'IL']],\n",
       "      dtype='<U69')"
      ]
     },
     "execution_count": 60,
     "metadata": {},
     "output_type": "execute_result"
    }
   ],
   "source": [
    "loan_data_strings= np.genfromtxt(\"C:\\\\Users\\mrgup\\Downloads\\loan-data.csv\",\n",
    "                                     delimiter=\";\",\n",
    "                                     usecols=columns_string,\n",
    "                                     skip_header=1,\n",
    "                                     dtype=str)\n",
    "loan_data_strings"
   ]
  },
  {
   "cell_type": "code",
   "execution_count": 61,
   "id": "4230d431",
   "metadata": {},
   "outputs": [
    {
     "data": {
      "text/plain": [
       "array([[48010226.  ,    35000.  ,    35000.  ,       13.33,     1184.86,     9452.96],\n",
       "       [57693261.  ,    30000.  ,    30000.  , 68616520.  ,      938.57,     4679.7 ],\n",
       "       [59432726.  ,    15000.  ,    15000.  , 68616520.  ,      494.86,     1969.83],\n",
       "       ...,\n",
       "       [50415990.  ,    10000.  ,    10000.  , 68616520.  , 68616520.  ,     2185.64],\n",
       "       [46154151.  , 68616520.  ,    10000.  ,       16.55,      354.3 ,     3199.4 ],\n",
       "       [66055249.  ,    10000.  ,    10000.  , 68616520.  ,      309.97,      301.9 ]])"
      ]
     },
     "execution_count": 61,
     "metadata": {},
     "output_type": "execute_result"
    }
   ],
   "source": [
    "#importing only numeric data with filling null values\n",
    "loan_data_numeric = np.genfromtxt(\"C:\\\\Users\\mrgup\\Downloads\\loan-data.csv\",\n",
    "                                  delimiter=';',\n",
    "                                  usecols= columns_numeric,\n",
    "                                  skip_header=1,\n",
    "                                  filling_values= Temporary_Fill\n",
    "                                 )\n",
    "loan_data_numeric"
   ]
  },
  {
   "cell_type": "markdown",
   "id": "b0881576",
   "metadata": {},
   "source": [
    "# Setting up Column names\n"
   ]
  },
  {
   "cell_type": "code",
   "execution_count": 62,
   "id": "01da206a",
   "metadata": {},
   "outputs": [
    {
     "data": {
      "text/plain": [
       "array(['id', 'issue_d', 'loan_amnt', 'loan_status', 'funded_amnt', 'term', 'int_rate',\n",
       "       'installment', 'grade', 'sub_grade', 'verification_status', 'url', 'addr_state',\n",
       "       'total_pymnt'], dtype='<U19')"
      ]
     },
     "execution_count": 62,
     "metadata": {},
     "output_type": "execute_result"
    }
   ],
   "source": [
    "header_full= np.genfromtxt(\"C:\\\\Users\\mrgup\\Downloads\\loan-data.csv\",\n",
    "                       delimiter=';',\n",
    "                       skip_footer= loan_data.shape[0],\n",
    "                       dtype=str)\n",
    "header_full"
   ]
  },
  {
   "cell_type": "code",
   "execution_count": 63,
   "id": "09f21392",
   "metadata": {},
   "outputs": [],
   "source": [
    "header_string,header_numeric= header_full[columns_string],header_full[columns_numeric]"
   ]
  },
  {
   "cell_type": "code",
   "execution_count": 64,
   "id": "711d65a7",
   "metadata": {},
   "outputs": [
    {
     "data": {
      "text/plain": [
       "(array(['id', 'loan_amnt', 'funded_amnt', 'int_rate', 'installment', 'total_pymnt'], dtype='<U19'),\n",
       " array(['issue_d', 'loan_status', 'term', 'grade', 'sub_grade', 'verification_status', 'url',\n",
       "        'addr_state'], dtype='<U19'))"
      ]
     },
     "execution_count": 64,
     "metadata": {},
     "output_type": "execute_result"
    }
   ],
   "source": [
    "header_numeric,header_string"
   ]
  },
  {
   "cell_type": "markdown",
   "id": "3f786185",
   "metadata": {},
   "source": [
    "# Categorical Data Analysis\n"
   ]
  },
  {
   "cell_type": "markdown",
   "id": "26b7fcdd",
   "metadata": {},
   "source": [
    "## 1- Issue Date Analysis"
   ]
  },
  {
   "cell_type": "code",
   "execution_count": 65,
   "id": "8b12460d",
   "metadata": {},
   "outputs": [
    {
     "data": {
      "text/plain": [
       "array(['', 'Apr-15', 'Aug-15', 'Dec-15', 'Feb-15', 'Jan-15', 'Jul-15', 'Jun-15', 'Mar-15',\n",
       "       'May-15', 'Nov-15', 'Oct-15', 'Sep-15'], dtype='<U69')"
      ]
     },
     "execution_count": 65,
     "metadata": {},
     "output_type": "execute_result"
    }
   ],
   "source": [
    "np.unique(loan_data_strings[:,0])"
   ]
  },
  {
   "cell_type": "code",
   "execution_count": 66,
   "id": "8f9b50de",
   "metadata": {},
   "outputs": [],
   "source": [
    "#we can replace months by it corresponding numeric occurence\n",
    "loan_data_strings[:,0] = np.chararray.strip(loan_data_strings[:,0],'-15')\n",
    "months = np.array(['', 'Jan', 'Feb', 'Mar', 'Apr', 'May', 'Jun', 'Jul', 'Aug', 'Sep', 'Oct', 'Nov', 'Dec'])"
   ]
  },
  {
   "cell_type": "code",
   "execution_count": 67,
   "id": "6987b64e",
   "metadata": {},
   "outputs": [],
   "source": [
    "for i in range(13):\n",
    "    loan_data_strings[:,0] = np.where(loan_data_strings[:,0] == months[i],\n",
    "                                     i,\n",
    "                                     loan_data_strings[:,0])"
   ]
  },
  {
   "cell_type": "code",
   "execution_count": 68,
   "id": "88f99cbe",
   "metadata": {},
   "outputs": [
    {
     "data": {
      "text/plain": [
       "array(['0', '1', '10', '11', '12', '2', '3', '4', '5', '6', '7', '8', '9'], dtype='<U69')"
      ]
     },
     "execution_count": 68,
     "metadata": {},
     "output_type": "execute_result"
    }
   ],
   "source": [
    "np.unique(loan_data_strings[:,0])"
   ]
  },
  {
   "cell_type": "markdown",
   "id": "0937b852",
   "metadata": {},
   "source": [
    "## 2- Loan Status Analysis"
   ]
  },
  {
   "cell_type": "code",
   "execution_count": 69,
   "id": "97fcffa8",
   "metadata": {},
   "outputs": [
    {
     "data": {
      "text/plain": [
       "array(['', 'Charged Off', 'Current', 'Default', 'Fully Paid', 'In Grace Period', 'Issued',\n",
       "       'Late (16-30 days)', 'Late (31-120 days)'], dtype='<U69')"
      ]
     },
     "execution_count": 69,
     "metadata": {},
     "output_type": "execute_result"
    }
   ],
   "source": [
    "np.unique(loan_data_strings[:,1])"
   ]
  },
  {
   "cell_type": "code",
   "execution_count": 70,
   "id": "725fce06",
   "metadata": {},
   "outputs": [
    {
     "data": {
      "text/plain": [
       "array(['', 'Charged off', 'Default', 'Late (31-120 days)'], dtype='<U18')"
      ]
     },
     "execution_count": 70,
     "metadata": {},
     "output_type": "execute_result"
    }
   ],
   "source": [
    "status_bad= np.array(['','Charged off','Default','Late (31-120 days)'])\n",
    "status_bad"
   ]
  },
  {
   "cell_type": "code",
   "execution_count": 71,
   "id": "e2dbee33",
   "metadata": {},
   "outputs": [
    {
     "data": {
      "text/plain": [
       "array(['0', '1'], dtype='<U69')"
      ]
     },
     "execution_count": 71,
     "metadata": {},
     "output_type": "execute_result"
    }
   ],
   "source": [
    "#we can replace bad status by 0 & Good status by 1\n",
    "loan_data_strings[:,1]=np.where(np.isin(loan_data_strings[:,1],status_bad),0,1)\n",
    "np.unique(loan_data_strings[:,1])"
   ]
  },
  {
   "cell_type": "markdown",
   "id": "1e53cc1a",
   "metadata": {},
   "source": [
    "## 3- Term Analysis"
   ]
  },
  {
   "cell_type": "code",
   "execution_count": 72,
   "id": "35ea5e37",
   "metadata": {},
   "outputs": [
    {
     "data": {
      "text/plain": [
       "array(['', ' 36 months', ' 60 months'], dtype='<U69')"
      ]
     },
     "execution_count": 72,
     "metadata": {},
     "output_type": "execute_result"
    }
   ],
   "source": [
    "np.unique(loan_data_strings[:,2])"
   ]
  },
  {
   "cell_type": "code",
   "execution_count": 73,
   "id": "6635369f",
   "metadata": {},
   "outputs": [],
   "source": [
    "#we can strip 'months' from each element\n",
    "loan_data_strings[:,2]=np.chararray.strip(loan_data_strings[:,2],' months')"
   ]
  },
  {
   "cell_type": "code",
   "execution_count": 74,
   "id": "18befcaf",
   "metadata": {},
   "outputs": [],
   "source": [
    "#for null values we assume 60 months loan term\n",
    "loan_data_strings[:,2]= np.where(loan_data_strings[:,2]=='',\n",
    "                                '60',\n",
    "                                loan_data_strings[:,2])"
   ]
  },
  {
   "cell_type": "code",
   "execution_count": 75,
   "id": "b0254242",
   "metadata": {},
   "outputs": [
    {
     "data": {
      "text/plain": [
       "array(['36', '60'], dtype='<U69')"
      ]
     },
     "execution_count": 75,
     "metadata": {},
     "output_type": "execute_result"
    }
   ],
   "source": [
    "np.unique(loan_data_strings[:,2])"
   ]
  },
  {
   "cell_type": "markdown",
   "id": "fbf0cdf8",
   "metadata": {},
   "source": [
    "## 4- Grade & SubGrade Anlaysis"
   ]
  },
  {
   "cell_type": "code",
   "execution_count": 76,
   "id": "8a1ca664",
   "metadata": {},
   "outputs": [
    {
     "data": {
      "text/plain": [
       "array(['', 'A', 'B', 'C', 'D', 'E', 'F', 'G'], dtype='<U69')"
      ]
     },
     "execution_count": 76,
     "metadata": {},
     "output_type": "execute_result"
    }
   ],
   "source": [
    "np.unique(loan_data_strings[:,3])"
   ]
  },
  {
   "cell_type": "code",
   "execution_count": 77,
   "id": "12b20ebb",
   "metadata": {},
   "outputs": [
    {
     "data": {
      "text/plain": [
       "array(['', 'A1', 'A2', 'A3', 'A4', 'A5', 'B1', 'B2', 'B3', 'B4', 'B5', 'C1', 'C2', 'C3', 'C4',\n",
       "       'C5', 'D1', 'D2', 'D3', 'D4', 'D5', 'E1', 'E2', 'E3', 'E4', 'E5', 'F1', 'F2', 'F3', 'F4',\n",
       "       'F5', 'G1', 'G2', 'G3', 'G4', 'G5'], dtype='<U69')"
      ]
     },
     "execution_count": 77,
     "metadata": {},
     "output_type": "execute_result"
    }
   ],
   "source": [
    "np.unique(loan_data_strings[:,4])"
   ]
  },
  {
   "cell_type": "code",
   "execution_count": 78,
   "id": "dbe50dc2",
   "metadata": {},
   "outputs": [
    {
     "data": {
      "text/plain": [
       "(array(['', 'A1', 'A2', 'A3', 'A4', 'A5', 'B1', 'B2', 'B3', 'B4', 'B5', 'C1', 'C2', 'C3', 'C4',\n",
       "        'C5', 'D1', 'D2', 'D3', 'D4', 'D5', 'E1', 'E2', 'E3', 'E4', 'E5', 'F1', 'F2', 'F3', 'F4',\n",
       "        'F5', 'G1', 'G2', 'G3', 'G4', 'G5'], dtype='<U69'),\n",
       " array([  9, 285, 278, 239, 323, 592, 509, 517, 530, 553, 633, 629, 567, 586, 564, 577, 391, 267,\n",
       "        250, 255, 288, 235, 162, 171, 139, 160,  94,  52,  34,  43,  24,  19,  10,   3,   7,   5],\n",
       "       dtype=int64))"
      ]
     },
     "execution_count": 78,
     "metadata": {},
     "output_type": "execute_result"
    }
   ],
   "source": [
    "#same conclusion can be obtained from both columns\n",
    "#replacing null values in sub grade by its corresponding values + 5 in Grade\n",
    "for i in np.unique(loan_data_strings[:,3])[1:]:\n",
    "    loan_data_strings[:,4]= np.where((loan_data_strings[:,4]=='') & (loan_data_strings[:,3]==i),\n",
    "                                    i+'5',\n",
    "                                    loan_data_strings[:,4])\n",
    "np.unique(loan_data_strings[:,4],return_counts = True)\n",
    "    "
   ]
  },
  {
   "cell_type": "code",
   "execution_count": 79,
   "id": "bbdd9bc8",
   "metadata": {},
   "outputs": [
    {
     "data": {
      "text/plain": [
       "array(['A1', 'A2', 'A3', 'A4', 'A5', 'B1', 'B2', 'B3', 'B4', 'B5', 'C1', 'C2', 'C3', 'C4', 'C5',\n",
       "       'D1', 'D2', 'D3', 'D4', 'D5', 'E1', 'E2', 'E3', 'E4', 'E5', 'F1', 'F2', 'F3', 'F4', 'F5',\n",
       "       'G1', 'G2', 'G3', 'G4', 'G5', 'H1'], dtype='<U69')"
      ]
     },
     "execution_count": 79,
     "metadata": {},
     "output_type": "execute_result"
    }
   ],
   "source": [
    "#hence null values are very less so it will not much affect our analysis\n",
    "#replacing null with new GRADE 'H1'\n",
    "loan_data_strings[:,4] = np.where(loan_data_strings[:,4]=='',\n",
    "                                 'H1',\n",
    "                                 loan_data_strings[:,4])\n",
    "np.unique(loan_data_strings[:,4])"
   ]
  },
  {
   "cell_type": "code",
   "execution_count": 80,
   "id": "7b8a4ea3",
   "metadata": {},
   "outputs": [],
   "source": [
    "loan_data_strings= np.delete(loan_data_strings,3,axis=1)"
   ]
  },
  {
   "cell_type": "code",
   "execution_count": 81,
   "id": "740bc195",
   "metadata": {},
   "outputs": [],
   "source": [
    "header_string= np.delete(header_string,3)"
   ]
  },
  {
   "cell_type": "code",
   "execution_count": 82,
   "id": "139b8fc4",
   "metadata": {},
   "outputs": [
    {
     "data": {
      "text/plain": [
       "array(['issue_d', 'loan_status', 'term', 'sub_grade', 'verification_status', 'url', 'addr_state'],\n",
       "      dtype='<U19')"
      ]
     },
     "execution_count": 82,
     "metadata": {},
     "output_type": "execute_result"
    }
   ],
   "source": [
    "header_string"
   ]
  },
  {
   "cell_type": "code",
   "execution_count": 83,
   "id": "871b18e8",
   "metadata": {},
   "outputs": [
    {
     "data": {
      "text/plain": [
       "{'A1': 1,\n",
       " 'A2': 2,\n",
       " 'A3': 3,\n",
       " 'A4': 4,\n",
       " 'A5': 5,\n",
       " 'B1': 6,\n",
       " 'B2': 7,\n",
       " 'B3': 8,\n",
       " 'B4': 9,\n",
       " 'B5': 10,\n",
       " 'C1': 11,\n",
       " 'C2': 12,\n",
       " 'C3': 13,\n",
       " 'C4': 14,\n",
       " 'C5': 15,\n",
       " 'D1': 16,\n",
       " 'D2': 17,\n",
       " 'D3': 18,\n",
       " 'D4': 19,\n",
       " 'D5': 20,\n",
       " 'E1': 21,\n",
       " 'E2': 22,\n",
       " 'E3': 23,\n",
       " 'E4': 24,\n",
       " 'E5': 25,\n",
       " 'F1': 26,\n",
       " 'F2': 27,\n",
       " 'F3': 28,\n",
       " 'F4': 29,\n",
       " 'F5': 30,\n",
       " 'G1': 31,\n",
       " 'G2': 32,\n",
       " 'G3': 33,\n",
       " 'G4': 34,\n",
       " 'G5': 35,\n",
       " 'H1': 36}"
      ]
     },
     "execution_count": 83,
     "metadata": {},
     "output_type": "execute_result"
    }
   ],
   "source": [
    "#converting grade to corresponding numeric value\n",
    "keys = list(np.unique(loan_data_strings[:,3]))\n",
    "values = list(range(1,np.unique(loan_data_strings[:,3]).shape[0]+1))\n",
    "dict_sub_grade = dict(zip(keys,values))\n",
    "dict_sub_grade\n",
    "            "
   ]
  },
  {
   "cell_type": "code",
   "execution_count": 84,
   "id": "9be76085",
   "metadata": {},
   "outputs": [
    {
     "data": {
      "text/plain": [
       "array(['1', '10', '11', '12', '13', '14', '15', '16', '17', '18', '19', '2', '20', '21', '22',\n",
       "       '23', '24', '25', '26', '27', '28', '29', '3', '30', '31', '32', '33', '34', '35', '36',\n",
       "       '4', '5', '6', '7', '8', '9'], dtype='<U69')"
      ]
     },
     "execution_count": 84,
     "metadata": {},
     "output_type": "execute_result"
    }
   ],
   "source": [
    "for i in np.unique(loan_data_strings[:,3]):\n",
    "    loan_data_strings[:,3] = np.where(loan_data_strings[:,3] == i,\n",
    "                                     dict_sub_grade[i],\n",
    "                                     loan_data_strings[:,3])\n",
    "np.unique(loan_data_strings[:,3])"
   ]
  },
  {
   "cell_type": "markdown",
   "id": "f19ffc83",
   "metadata": {},
   "source": [
    "## 4- Verification Status Analysis"
   ]
  },
  {
   "cell_type": "code",
   "execution_count": 85,
   "id": "8efca6fd",
   "metadata": {},
   "outputs": [
    {
     "data": {
      "text/plain": [
       "array(['', 'Not Verified', 'Source Verified', 'Verified'], dtype='<U69')"
      ]
     },
     "execution_count": 85,
     "metadata": {},
     "output_type": "execute_result"
    }
   ],
   "source": [
    "np.unique(loan_data_strings[:,4])"
   ]
  },
  {
   "cell_type": "code",
   "execution_count": 86,
   "id": "000a8da4",
   "metadata": {},
   "outputs": [],
   "source": [
    "loan_data_strings[:,4]= np.where((loan_data_strings[:,4] == '') | (loan_data_strings[:,4]== 'Not Verified'),\n",
    "                                 0,\n",
    "                                 1)\n"
   ]
  },
  {
   "cell_type": "code",
   "execution_count": 87,
   "id": "7dd77f37",
   "metadata": {},
   "outputs": [
    {
     "data": {
      "text/plain": [
       "array(['0', '1'], dtype='<U69')"
      ]
     },
     "execution_count": 87,
     "metadata": {},
     "output_type": "execute_result"
    }
   ],
   "source": [
    "np.unique(loan_data_strings[:,4])"
   ]
  },
  {
   "cell_type": "markdown",
   "id": "23d9e282",
   "metadata": {},
   "source": [
    "## 5- url Analysis"
   ]
  },
  {
   "cell_type": "code",
   "execution_count": 88,
   "id": "56536c5b",
   "metadata": {},
   "outputs": [
    {
     "data": {
      "text/plain": [
       "array(['https://www.lendingclub.com/browse/loanDetail.action?loan_id=12606806',\n",
       "       'https://www.lendingclub.com/browse/loanDetail.action?loan_id=13026045',\n",
       "       'https://www.lendingclub.com/browse/loanDetail.action?loan_id=1312426', ...,\n",
       "       'https://www.lendingclub.com/browse/loanDetail.action?loan_id=8138291',\n",
       "       'https://www.lendingclub.com/browse/loanDetail.action?loan_id=8214572',\n",
       "       'https://www.lendingclub.com/browse/loanDetail.action?loan_id=849994'], dtype='<U69')"
      ]
     },
     "execution_count": 88,
     "metadata": {},
     "output_type": "execute_result"
    }
   ],
   "source": [
    "np.unique(loan_data_strings[:,5])"
   ]
  },
  {
   "cell_type": "code",
   "execution_count": 89,
   "id": "7653bb30",
   "metadata": {},
   "outputs": [],
   "source": [
    "loan_data_strings[:,5]= np.chararray.strip(loan_data_strings[:,5],'https://www.lendingclub.com/browse/loanDetail.action?loan_id=')"
   ]
  },
  {
   "cell_type": "code",
   "execution_count": 90,
   "id": "e20149a9",
   "metadata": {},
   "outputs": [
    {
     "data": {
      "text/plain": [
       "array(['12606806', '13026045', '1312426', ..., '8138291', '8214572', '849994'], dtype='<U69')"
      ]
     },
     "execution_count": 90,
     "metadata": {},
     "output_type": "execute_result"
    }
   ],
   "source": [
    "np.unique(loan_data_strings[:,5])"
   ]
  },
  {
   "cell_type": "code",
   "execution_count": 91,
   "id": "12bf0ae5",
   "metadata": {},
   "outputs": [
    {
     "data": {
      "text/plain": [
       "True"
      ]
     },
     "execution_count": 91,
     "metadata": {},
     "output_type": "execute_result"
    }
   ],
   "source": [
    "np.array_equal(loan_data_numeric[:,0].astype(dtype=np.int32),loan_data_strings[:,5].astype(dtype=np.int32))"
   ]
  },
  {
   "cell_type": "code",
   "execution_count": 92,
   "id": "4dd9fbd6",
   "metadata": {},
   "outputs": [],
   "source": [
    "#column url also give same information as column id\n",
    "loan_data_strings= np.delete(loan_data_strings,5,axis=1)\n",
    "header_string= np.delete(header_string,5)"
   ]
  },
  {
   "cell_type": "code",
   "execution_count": 93,
   "id": "c5ca1106",
   "metadata": {},
   "outputs": [
    {
     "data": {
      "text/plain": [
       "array(['CA', 'NY', 'PA', ..., 'CA', 'OH', 'IL'], dtype='<U69')"
      ]
     },
     "execution_count": 93,
     "metadata": {},
     "output_type": "execute_result"
    }
   ],
   "source": [
    "loan_data_strings[:,5]"
   ]
  },
  {
   "cell_type": "code",
   "execution_count": 94,
   "id": "b68475e9",
   "metadata": {},
   "outputs": [
    {
     "data": {
      "text/plain": [
       "'addr_state'"
      ]
     },
     "execution_count": 94,
     "metadata": {},
     "output_type": "execute_result"
    }
   ],
   "source": [
    "header_string[5]"
   ]
  },
  {
   "cell_type": "code",
   "execution_count": 95,
   "id": "ec28427a",
   "metadata": {},
   "outputs": [
    {
     "data": {
      "text/plain": [
       "array(['issue_d', 'loan_status', 'term', 'sub_grade', 'verification_status', 'addr_state'],\n",
       "      dtype='<U19')"
      ]
     },
     "execution_count": 95,
     "metadata": {},
     "output_type": "execute_result"
    }
   ],
   "source": [
    "header_string"
   ]
  },
  {
   "cell_type": "markdown",
   "id": "0727bcc4",
   "metadata": {},
   "source": [
    "## 6- Address State Analysis\n"
   ]
  },
  {
   "cell_type": "code",
   "execution_count": 96,
   "id": "7ba4f762",
   "metadata": {},
   "outputs": [],
   "source": [
    "loan_data_strings= np.delete(loan_data_strings,5,axis=1)  \n",
    "header_string= np.delete(header_string,5)"
   ]
  },
  {
   "cell_type": "code",
   "execution_count": 97,
   "id": "33189362",
   "metadata": {},
   "outputs": [
    {
     "data": {
      "text/plain": [
       "array([['5', '1', '36', '13', '1'],\n",
       "       ['0', '1', '36', '5', '1'],\n",
       "       ['9', '1', '36', '10', '1'],\n",
       "       ...,\n",
       "       ['6', '1', '36', '5', '1'],\n",
       "       ['4', '1', '36', '17', '1'],\n",
       "       ['12', '1', '36', '4', '0']], dtype='<U69')"
      ]
     },
     "execution_count": 97,
     "metadata": {},
     "output_type": "execute_result"
    }
   ],
   "source": [
    "loan_data_strings"
   ]
  },
  {
   "cell_type": "code",
   "execution_count": 98,
   "id": "ec7a49b9",
   "metadata": {},
   "outputs": [
    {
     "data": {
      "text/plain": [
       "array([[ 5.,  1., 36., 13.,  1.],\n",
       "       [ 0.,  1., 36.,  5.,  1.],\n",
       "       [ 9.,  1., 36., 10.,  1.],\n",
       "       ...,\n",
       "       [ 6.,  1., 36.,  5.,  1.],\n",
       "       [ 4.,  1., 36., 17.,  1.],\n",
       "       [12.,  1., 36.,  4.,  0.]], dtype=float32)"
      ]
     },
     "execution_count": 98,
     "metadata": {},
     "output_type": "execute_result"
    }
   ],
   "source": [
    "loan_data_strings= loan_data_strings.astype(dtype=np.float32)\n",
    "loan_data_strings"
   ]
  },
  {
   "cell_type": "markdown",
   "id": "2eccb8d8",
   "metadata": {},
   "source": [
    "# Numerical Data Analysis "
   ]
  },
  {
   "cell_type": "markdown",
   "id": "b2ae49f7",
   "metadata": {},
   "source": [
    "##  Substitute Filler Values by Mean of each Column"
   ]
  },
  {
   "cell_type": "code",
   "execution_count": 99,
   "id": "9470496c",
   "metadata": {},
   "outputs": [
    {
     "data": {
      "text/plain": [
       "array(['id', 'loan_amnt', 'funded_amnt', 'int_rate', 'installment', 'total_pymnt'], dtype='<U19')"
      ]
     },
     "execution_count": 99,
     "metadata": {},
     "output_type": "execute_result"
    }
   ],
   "source": [
    "header_numeric"
   ]
  },
  {
   "cell_type": "markdown",
   "id": "8bb7dde1",
   "metadata": {},
   "source": [
    "### 1- ID"
   ]
  },
  {
   "cell_type": "code",
   "execution_count": 100,
   "id": "c33f3a96",
   "metadata": {},
   "outputs": [
    {
     "data": {
      "text/plain": [
       "0"
      ]
     },
     "execution_count": 100,
     "metadata": {},
     "output_type": "execute_result"
    }
   ],
   "source": [
    "np.isin(loan_data_numeric[:,0],Temporary_Fill).sum()"
   ]
  },
  {
   "cell_type": "code",
   "execution_count": 101,
   "id": "e8b5f483",
   "metadata": {},
   "outputs": [
    {
     "data": {
      "text/plain": [
       "0"
      ]
     },
     "execution_count": 101,
     "metadata": {},
     "output_type": "execute_result"
    }
   ],
   "source": [
    "np.isnan(loan_data_numeric[:,0]).sum()"
   ]
  },
  {
   "cell_type": "markdown",
   "id": "3cb703f6",
   "metadata": {},
   "source": [
    "### 2- Funded Amount"
   ]
  },
  {
   "cell_type": "code",
   "execution_count": 102,
   "id": "6e069283",
   "metadata": {},
   "outputs": [],
   "source": [
    "#replacing temporary fill in funded Amount by minimum value of funded amount\n",
    "loan_data_numeric[:,2]= np.where(loan_data_numeric[:,2] == Temporary_Fill,\n",
    "                                np.nanmin(loan_data[:,4]),\n",
    "                                loan_data_numeric[:,2])"
   ]
  },
  {
   "cell_type": "code",
   "execution_count": 103,
   "id": "a7d1bd7b",
   "metadata": {},
   "outputs": [
    {
     "data": {
      "text/plain": [
       "0"
      ]
     },
     "execution_count": 103,
     "metadata": {},
     "output_type": "execute_result"
    }
   ],
   "source": [
    "np.isin(loan_data_numeric[:,2],Temporary_Fill).sum()"
   ]
  },
  {
   "cell_type": "code",
   "execution_count": 105,
   "id": "f72fc058",
   "metadata": {},
   "outputs": [
    {
     "data": {
      "text/plain": [
       "array([35000., 30000., 15000., ..., 10000., 10000., 10000.])"
      ]
     },
     "execution_count": 105,
     "metadata": {},
     "output_type": "execute_result"
    }
   ],
   "source": [
    "loan_data_numeric[:,2]"
   ]
  },
  {
   "cell_type": "markdown",
   "id": "4bc44dbf",
   "metadata": {},
   "source": [
    "### 3-  loan_amnt,  int_rate, installment, total_pymnt Analysis"
   ]
  },
  {
   "cell_type": "code",
   "execution_count": 183,
   "id": "ed79c934",
   "metadata": {},
   "outputs": [
    {
     "data": {
      "text/plain": [
       "array(['id', 'loan_amnt', 'funded_amnt', 'int_rate', 'installment', 'total_pymnt'], dtype='<U19')"
      ]
     },
     "execution_count": 183,
     "metadata": {},
     "output_type": "execute_result"
    }
   ],
   "source": [
    "header_numeric"
   ]
  },
  {
   "cell_type": "code",
   "execution_count": 185,
   "id": "b41f64d7",
   "metadata": {},
   "outputs": [
    {
     "data": {
      "text/plain": [
       "array(['id', 'issue_d', 'loan_amnt', 'loan_status', 'funded_amnt', 'term', 'int_rate',\n",
       "       'installment', 'grade', 'sub_grade', 'verification_status', 'url', 'addr_state',\n",
       "       'total_pymnt'], dtype='<U19')"
      ]
     },
     "execution_count": 185,
     "metadata": {},
     "output_type": "execute_result"
    }
   ],
   "source": [
    "header_full"
   ]
  },
  {
   "cell_type": "code",
   "execution_count": 107,
   "id": "7083a5f0",
   "metadata": {},
   "outputs": [],
   "source": [
    "loan_data_numeric[:,1] = np.where(loan_data_numeric[:,1] == Temporary_Fill,\n",
    "                                   np.nanmax(loan_data[:,2],axis=0),\n",
    "                                   loan_data_numeric[:,1]\n",
    "                                     )\n"
   ]
  },
  {
   "cell_type": "code",
   "execution_count": 110,
   "id": "56b5941d",
   "metadata": {},
   "outputs": [
    {
     "data": {
      "text/plain": [
       "35000.0"
      ]
     },
     "execution_count": 110,
     "metadata": {},
     "output_type": "execute_result"
    }
   ],
   "source": [
    "np.max(loan_data_numeric[:,1])"
   ]
  },
  {
   "cell_type": "code",
   "execution_count": 111,
   "id": "dab220f7",
   "metadata": {},
   "outputs": [
    {
     "data": {
      "text/plain": [
       "28.99"
      ]
     },
     "execution_count": 111,
     "metadata": {},
     "output_type": "execute_result"
    }
   ],
   "source": [
    "#for int_rate\n",
    "loan_data_numeric[:,3] = np.where(loan_data_numeric[:,3] == Temporary_Fill,\n",
    "                                   np.nanmax(loan_data[:,6],axis=0),\n",
    "                                   loan_data_numeric[:,3])\n",
    "np.max(loan_data_numeric[:,3])"
   ]
  },
  {
   "cell_type": "code",
   "execution_count": 112,
   "id": "9f2c9f5b",
   "metadata": {},
   "outputs": [],
   "source": [
    "#for intsallment\n",
    "loan_data_numeric[:,4] = np.where(loan_data_numeric[:,4] == Temporary_Fill,\n",
    "                                   np.nanmax(loan_data[:,7],axis=0),\n",
    "                                   loan_data_numeric[:,4]\n",
    "                                     )\n"
   ]
  },
  {
   "cell_type": "code",
   "execution_count": 113,
   "id": "4b3b36db",
   "metadata": {},
   "outputs": [],
   "source": [
    "#for total_pamnt\n",
    "loan_data_numeric[:,5] = np.where(loan_data_numeric[:,5] == Temporary_Fill,\n",
    "                                   np.nanmax(loan_data[:,13],axis=0),\n",
    "                                   loan_data_numeric[:,5]\n",
    "                                     )\n"
   ]
  },
  {
   "cell_type": "markdown",
   "id": "78d2918b",
   "metadata": {},
   "source": [
    "# Exporting Data set"
   ]
  },
  {
   "cell_type": "code",
   "execution_count": 114,
   "id": "1d0edf26",
   "metadata": {},
   "outputs": [
    {
     "data": {
      "text/plain": [
       "(10000, 6)"
      ]
     },
     "execution_count": 114,
     "metadata": {},
     "output_type": "execute_result"
    }
   ],
   "source": [
    "loan_data_numeric.shape"
   ]
  },
  {
   "cell_type": "code",
   "execution_count": 115,
   "id": "ca6207ef",
   "metadata": {},
   "outputs": [
    {
     "data": {
      "text/plain": [
       "(10000, 5)"
      ]
     },
     "execution_count": 115,
     "metadata": {},
     "output_type": "execute_result"
    }
   ],
   "source": [
    "loan_data_strings.shape"
   ]
  },
  {
   "cell_type": "code",
   "execution_count": 116,
   "id": "52705081",
   "metadata": {},
   "outputs": [
    {
     "data": {
      "text/plain": [
       "(6,)"
      ]
     },
     "execution_count": 116,
     "metadata": {},
     "output_type": "execute_result"
    }
   ],
   "source": [
    "header_numeric.shape"
   ]
  },
  {
   "cell_type": "code",
   "execution_count": 117,
   "id": "0b2954df",
   "metadata": {},
   "outputs": [
    {
     "data": {
      "text/plain": [
       "(5,)"
      ]
     },
     "execution_count": 117,
     "metadata": {},
     "output_type": "execute_result"
    }
   ],
   "source": [
    "header_string.shape"
   ]
  },
  {
   "cell_type": "code",
   "execution_count": 120,
   "id": "a2d43783",
   "metadata": {},
   "outputs": [
    {
     "data": {
      "text/plain": [
       "array(['id', 'loan_amnt', 'funded_amnt', 'int_rate', 'installment', 'total_pymnt', 'issue_d',\n",
       "       'loan_status', 'term', 'sub_grade', 'verification_status'], dtype='<U19')"
      ]
     },
     "execution_count": 120,
     "metadata": {},
     "output_type": "execute_result"
    }
   ],
   "source": [
    "header_full= np.hstack((header_numeric,header_string))\n",
    "header_full"
   ]
  },
  {
   "cell_type": "code",
   "execution_count": 121,
   "id": "8c0b4c96",
   "metadata": {},
   "outputs": [
    {
     "data": {
      "text/plain": [
       "array([[48010226.,    35000.,    35000., ...,       36.,       13.,        1.],\n",
       "       [57693261.,    30000.,    30000., ...,       36.,        5.,        1.],\n",
       "       [59432726.,    15000.,    15000., ...,       36.,       10.,        1.],\n",
       "       ...,\n",
       "       [50415990.,    10000.,    10000., ...,       36.,        5.,        1.],\n",
       "       [46154151.,    35000.,    10000., ...,       36.,       17.,        1.],\n",
       "       [66055249.,    10000.,    10000., ...,       36.,        4.,        0.]])"
      ]
     },
     "execution_count": 121,
     "metadata": {},
     "output_type": "execute_result"
    }
   ],
   "source": [
    "loan_data = np.hstack((loan_data_numeric,loan_data_strings))\n",
    "loan_data\n"
   ]
  },
  {
   "cell_type": "code",
   "execution_count": 122,
   "id": "422eb923",
   "metadata": {},
   "outputs": [
    {
     "data": {
      "text/plain": [
       "array([[  373332.,     9950.,     1000., ...,       36.,       21.,        0.],\n",
       "       [  575239.,    12000.,    12000., ...,       60.,       25.,        1.],\n",
       "       [  707689.,    10000.,    10000., ...,       36.,       13.,        1.],\n",
       "       ...,\n",
       "       [68614880.,     5600.,     5600., ...,       36.,        8.,        1.],\n",
       "       [68615915.,     4000.,     4000., ...,       36.,       10.,        1.],\n",
       "       [68616519.,    21600.,    21600., ...,       36.,        3.,        0.]])"
      ]
     },
     "execution_count": 122,
     "metadata": {},
     "output_type": "execute_result"
    }
   ],
   "source": [
    "#sorting data set\n",
    "loan_data = loan_data[np.argsort(loan_data[:,0])]\n",
    "loan_data"
   ]
  },
  {
   "cell_type": "code",
   "execution_count": 123,
   "id": "3ade0bac",
   "metadata": {},
   "outputs": [
    {
     "data": {
      "text/plain": [
       "array([['id', 'loan_amnt', 'funded_amnt', ..., 'term', 'sub_grade', 'verification_status'],\n",
       "       ['373332.0', '9950.0', '1000.0', ..., '36.0', '21.0', '0.0'],\n",
       "       ['575239.0', '12000.0', '12000.0', ..., '60.0', '25.0', '1.0'],\n",
       "       ...,\n",
       "       ['68614880.0', '5600.0', '5600.0', ..., '36.0', '8.0', '1.0'],\n",
       "       ['68615915.0', '4000.0', '4000.0', ..., '36.0', '10.0', '1.0'],\n",
       "       ['68616519.0', '21600.0', '21600.0', ..., '36.0', '3.0', '0.0']], dtype='<U32')"
      ]
     },
     "execution_count": 123,
     "metadata": {},
     "output_type": "execute_result"
    }
   ],
   "source": [
    "loan_data = np.vstack((header_full,loan_data))\n",
    "loan_data"
   ]
  },
  {
   "cell_type": "code",
   "execution_count": 124,
   "id": "e2537677",
   "metadata": {},
   "outputs": [],
   "source": [
    "np.savetxt('loan_project_cleaned.csv',\n",
    "           loan_data,\n",
    "           delimiter = ';',\n",
    "           fmt = '%s')"
   ]
  },
  {
   "cell_type": "code",
   "execution_count": null,
   "id": "0ba101c7",
   "metadata": {},
   "outputs": [],
   "source": []
  }
 ],
 "metadata": {
  "kernelspec": {
   "display_name": "Python 3 (ipykernel)",
   "language": "python",
   "name": "python3"
  },
  "language_info": {
   "codemirror_mode": {
    "name": "ipython",
    "version": 3
   },
   "file_extension": ".py",
   "mimetype": "text/x-python",
   "name": "python",
   "nbconvert_exporter": "python",
   "pygments_lexer": "ipython3",
   "version": "3.10.9"
  }
 },
 "nbformat": 4,
 "nbformat_minor": 5
}
